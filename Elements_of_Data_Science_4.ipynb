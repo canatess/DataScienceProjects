{
  "cells": [
    {
      "cell_type": "markdown",
      "id": "32135f87",
      "metadata": {
        "id": "32135f87"
      },
      "source": [
        "# Comparison of the performances of classification models\n",
        "\n",
        "Build kNN and logistic regression classifiers using sklearn library to predict \"satisfaction\" (**label** variable) by using given data. \n",
        "- First, shuffle and split your data into train, validation and test sets randomly, with a ratio of 70:10:20 **(10 points)**. \n",
        "- Build your models (with proper comments and explanations) using training set, and do parameter selection over the validation set  **(45 points)**. \n",
        "- Compare these 2 classification models according to their accuracies (you can print accuracy values in a single table as a comprehensive view) over the test set. Comment on their classification performance **(10 points)**.\n",
        "- Plot confusion matrices for your models over the test set, and comment on the outcomes **(15 points)**. \n",
        "- Finally, plot Precision-Recall (PR) curves for each classification model over the test set and evaluate the prediction performance of each classifier **(20 points)**. \n",
        "\n",
        "Notes:\n",
        "\n",
        "* Choose the optimal k value using Minkowski distance (with trying two different p-values) for kNN model using the validation set. \n",
        "\n",
        "\n",
        "* For any parameter selection, use the validation set.\n",
        "\n",
        "\n",
        "* Don't forget to add comments into your code lines to explain how your program works, your intentions behind it. Also, do not forget to comment on the outcomes and comparisons. "
      ]
    },
    {
      "cell_type": "code",
      "execution_count": null,
      "id": "24daaf36",
      "metadata": {
        "id": "24daaf36"
      },
      "outputs": [],
      "source": [
        "import pandas as pd\n",
        "from sklearn.model_selection import train_test_split\n",
        "from sklearn.neighbors import KNeighborsClassifier as KNN\n",
        "from sklearn.linear_model import LogisticRegression\n",
        "from sklearn.metrics import f1_score\n",
        "from sklearn.metrics import accuracy_score\n",
        "from sklearn.metrics import plot_confusion_matrix\n",
        "import matplotlib.pyplot as plt\n",
        "from sklearn.metrics import (precision_recall_curve, PrecisionRecallDisplay)\n",
        "from sklearn.metrics import classification_report\n",
        "\n",
        "# Suppress warnings \n",
        "import warnings\n",
        "warnings.filterwarnings('ignore')"
      ]
    },
    {
      "cell_type": "code",
      "execution_count": null,
      "id": "486e8186",
      "metadata": {
        "id": "486e8186",
        "outputId": "854c4602-56c0-44e7-f60a-28867b02fcb0"
      },
      "outputs": [
        {
          "name": "stdout",
          "output_type": "stream",
          "text": [
            "Shape of the DataFrame: (1735, 23)\n"
          ]
        },
        {
          "data": {
            "text/html": [
              "<div>\n",
              "<style scoped>\n",
              "    .dataframe tbody tr th:only-of-type {\n",
              "        vertical-align: middle;\n",
              "    }\n",
              "\n",
              "    .dataframe tbody tr th {\n",
              "        vertical-align: top;\n",
              "    }\n",
              "\n",
              "    .dataframe thead th {\n",
              "        text-align: right;\n",
              "    }\n",
              "</style>\n",
              "<table border=\"1\" class=\"dataframe\">\n",
              "  <thead>\n",
              "    <tr style=\"text-align: right;\">\n",
              "      <th></th>\n",
              "      <th>satisfaction</th>\n",
              "      <th>Gender</th>\n",
              "      <th>Customer Type</th>\n",
              "      <th>Age</th>\n",
              "      <th>Type of Travel</th>\n",
              "      <th>Class</th>\n",
              "      <th>Flight Distance</th>\n",
              "      <th>Seat comfort</th>\n",
              "      <th>Departure/Arrival time convenient</th>\n",
              "      <th>Food and drink</th>\n",
              "      <th>...</th>\n",
              "      <th>Online support</th>\n",
              "      <th>Ease of Online booking</th>\n",
              "      <th>On-board service</th>\n",
              "      <th>Leg room service</th>\n",
              "      <th>Baggage handling</th>\n",
              "      <th>Checkin service</th>\n",
              "      <th>Cleanliness</th>\n",
              "      <th>Online boarding</th>\n",
              "      <th>Departure Delay in Minutes</th>\n",
              "      <th>Arrival Delay in Minutes</th>\n",
              "    </tr>\n",
              "  </thead>\n",
              "  <tbody>\n",
              "    <tr>\n",
              "      <th>0</th>\n",
              "      <td>satisfied</td>\n",
              "      <td>Female</td>\n",
              "      <td>Loyal Customer</td>\n",
              "      <td>65</td>\n",
              "      <td>Personal Travel</td>\n",
              "      <td>Eco</td>\n",
              "      <td>265</td>\n",
              "      <td>0</td>\n",
              "      <td>0</td>\n",
              "      <td>0</td>\n",
              "      <td>...</td>\n",
              "      <td>2</td>\n",
              "      <td>3</td>\n",
              "      <td>3</td>\n",
              "      <td>0</td>\n",
              "      <td>3</td>\n",
              "      <td>5</td>\n",
              "      <td>3</td>\n",
              "      <td>2</td>\n",
              "      <td>0</td>\n",
              "      <td>0.0</td>\n",
              "    </tr>\n",
              "    <tr>\n",
              "      <th>1</th>\n",
              "      <td>satisfied</td>\n",
              "      <td>Male</td>\n",
              "      <td>Loyal Customer</td>\n",
              "      <td>47</td>\n",
              "      <td>Personal Travel</td>\n",
              "      <td>Business</td>\n",
              "      <td>2464</td>\n",
              "      <td>0</td>\n",
              "      <td>0</td>\n",
              "      <td>0</td>\n",
              "      <td>...</td>\n",
              "      <td>2</td>\n",
              "      <td>3</td>\n",
              "      <td>4</td>\n",
              "      <td>4</td>\n",
              "      <td>4</td>\n",
              "      <td>2</td>\n",
              "      <td>3</td>\n",
              "      <td>2</td>\n",
              "      <td>310</td>\n",
              "      <td>305.0</td>\n",
              "    </tr>\n",
              "    <tr>\n",
              "      <th>2</th>\n",
              "      <td>satisfied</td>\n",
              "      <td>Female</td>\n",
              "      <td>Loyal Customer</td>\n",
              "      <td>15</td>\n",
              "      <td>Personal Travel</td>\n",
              "      <td>Eco</td>\n",
              "      <td>2138</td>\n",
              "      <td>0</td>\n",
              "      <td>0</td>\n",
              "      <td>0</td>\n",
              "      <td>...</td>\n",
              "      <td>2</td>\n",
              "      <td>2</td>\n",
              "      <td>3</td>\n",
              "      <td>3</td>\n",
              "      <td>4</td>\n",
              "      <td>4</td>\n",
              "      <td>4</td>\n",
              "      <td>2</td>\n",
              "      <td>0</td>\n",
              "      <td>0.0</td>\n",
              "    </tr>\n",
              "    <tr>\n",
              "      <th>3</th>\n",
              "      <td>satisfied</td>\n",
              "      <td>Female</td>\n",
              "      <td>Loyal Customer</td>\n",
              "      <td>60</td>\n",
              "      <td>Personal Travel</td>\n",
              "      <td>Eco</td>\n",
              "      <td>623</td>\n",
              "      <td>0</td>\n",
              "      <td>0</td>\n",
              "      <td>0</td>\n",
              "      <td>...</td>\n",
              "      <td>3</td>\n",
              "      <td>1</td>\n",
              "      <td>1</td>\n",
              "      <td>0</td>\n",
              "      <td>1</td>\n",
              "      <td>4</td>\n",
              "      <td>1</td>\n",
              "      <td>3</td>\n",
              "      <td>0</td>\n",
              "      <td>0.0</td>\n",
              "    </tr>\n",
              "    <tr>\n",
              "      <th>4</th>\n",
              "      <td>satisfied</td>\n",
              "      <td>Female</td>\n",
              "      <td>Loyal Customer</td>\n",
              "      <td>70</td>\n",
              "      <td>Personal Travel</td>\n",
              "      <td>Eco</td>\n",
              "      <td>354</td>\n",
              "      <td>0</td>\n",
              "      <td>0</td>\n",
              "      <td>0</td>\n",
              "      <td>...</td>\n",
              "      <td>4</td>\n",
              "      <td>2</td>\n",
              "      <td>2</td>\n",
              "      <td>0</td>\n",
              "      <td>2</td>\n",
              "      <td>4</td>\n",
              "      <td>2</td>\n",
              "      <td>5</td>\n",
              "      <td>0</td>\n",
              "      <td>0.0</td>\n",
              "    </tr>\n",
              "  </tbody>\n",
              "</table>\n",
              "<p>5 rows × 23 columns</p>\n",
              "</div>"
            ],
            "text/plain": [
              "  satisfaction  Gender   Customer Type  Age   Type of Travel     Class  \\\n",
              "0    satisfied  Female  Loyal Customer   65  Personal Travel       Eco   \n",
              "1    satisfied    Male  Loyal Customer   47  Personal Travel  Business   \n",
              "2    satisfied  Female  Loyal Customer   15  Personal Travel       Eco   \n",
              "3    satisfied  Female  Loyal Customer   60  Personal Travel       Eco   \n",
              "4    satisfied  Female  Loyal Customer   70  Personal Travel       Eco   \n",
              "\n",
              "   Flight Distance  Seat comfort  Departure/Arrival time convenient  \\\n",
              "0              265             0                                  0   \n",
              "1             2464             0                                  0   \n",
              "2             2138             0                                  0   \n",
              "3              623             0                                  0   \n",
              "4              354             0                                  0   \n",
              "\n",
              "   Food and drink  ...  Online support  Ease of Online booking  \\\n",
              "0               0  ...               2                       3   \n",
              "1               0  ...               2                       3   \n",
              "2               0  ...               2                       2   \n",
              "3               0  ...               3                       1   \n",
              "4               0  ...               4                       2   \n",
              "\n",
              "   On-board service  Leg room service  Baggage handling  Checkin service  \\\n",
              "0                 3                 0                 3                5   \n",
              "1                 4                 4                 4                2   \n",
              "2                 3                 3                 4                4   \n",
              "3                 1                 0                 1                4   \n",
              "4                 2                 0                 2                4   \n",
              "\n",
              "   Cleanliness  Online boarding  Departure Delay in Minutes  \\\n",
              "0            3                2                           0   \n",
              "1            3                2                         310   \n",
              "2            4                2                           0   \n",
              "3            1                3                           0   \n",
              "4            2                5                           0   \n",
              "\n",
              "   Arrival Delay in Minutes  \n",
              "0                       0.0  \n",
              "1                     305.0  \n",
              "2                       0.0  \n",
              "3                       0.0  \n",
              "4                       0.0  \n",
              "\n",
              "[5 rows x 23 columns]"
            ]
          },
          "execution_count": 2,
          "metadata": {},
          "output_type": "execute_result"
        }
      ],
      "source": [
        "# Read the \"data.csv\" file as a DataFrame object.\n",
        "data_df = pd.read_csv(\"data.csv\")\n",
        "\n",
        "# Print shape info of the DataFrame.\n",
        "print(\"Shape of the DataFrame:\", data_df.shape)\n",
        "\n",
        "# Print first 5 tuples of the DataFrame.\n",
        "data_df.head()"
      ]
    },
    {
      "cell_type": "code",
      "execution_count": null,
      "id": "78934ca2",
      "metadata": {
        "id": "78934ca2",
        "outputId": "e13db2ee-e3a3-451a-c6eb-46f06a34563e"
      },
      "outputs": [
        {
          "data": {
            "text/plain": [
              "satisfaction                         0\n",
              "Gender                               0\n",
              "Customer Type                        0\n",
              "Age                                  0\n",
              "Type of Travel                       0\n",
              "Class                                0\n",
              "Flight Distance                      0\n",
              "Seat comfort                         0\n",
              "Departure/Arrival time convenient    0\n",
              "Food and drink                       0\n",
              "Gate location                        0\n",
              "Inflight wifi service                0\n",
              "Inflight entertainment               0\n",
              "Online support                       0\n",
              "Ease of Online booking               0\n",
              "On-board service                     0\n",
              "Leg room service                     0\n",
              "Baggage handling                     0\n",
              "Checkin service                      0\n",
              "Cleanliness                          0\n",
              "Online boarding                      0\n",
              "Departure Delay in Minutes           0\n",
              "Arrival Delay in Minutes             5\n",
              "dtype: int64"
            ]
          },
          "execution_count": 3,
          "metadata": {},
          "output_type": "execute_result"
        }
      ],
      "source": [
        "# Check DataFrame for NaN values.\n",
        "data_df.isnull().sum()"
      ]
    },
    {
      "cell_type": "code",
      "execution_count": null,
      "id": "e1c60f41",
      "metadata": {
        "id": "e1c60f41"
      },
      "outputs": [],
      "source": [
        "# According to upper cell, \"Arrival Delay in Minutes\" has 5 NaN value.\n",
        "# I will not delete these values because their count is too few. \n",
        "# I choose to fill them with median because of the mean can affect easily by the outliers.\n",
        "\n",
        "data_df['Arrival Delay in Minutes'].fillna(data_df['Arrival Delay in Minutes'].median(), inplace = True)"
      ]
    },
    {
      "cell_type": "code",
      "execution_count": null,
      "id": "fdae4cb3",
      "metadata": {
        "id": "fdae4cb3",
        "outputId": "6d86b988-9424-4e5a-b5f6-0dbc9502b813"
      },
      "outputs": [
        {
          "data": {
            "text/plain": [
              "satisfaction                          object\n",
              "Gender                                object\n",
              "Customer Type                         object\n",
              "Age                                    int64\n",
              "Type of Travel                        object\n",
              "Class                                 object\n",
              "Flight Distance                        int64\n",
              "Seat comfort                           int64\n",
              "Departure/Arrival time convenient      int64\n",
              "Food and drink                         int64\n",
              "Gate location                          int64\n",
              "Inflight wifi service                  int64\n",
              "Inflight entertainment                 int64\n",
              "Online support                         int64\n",
              "Ease of Online booking                 int64\n",
              "On-board service                       int64\n",
              "Leg room service                       int64\n",
              "Baggage handling                       int64\n",
              "Checkin service                        int64\n",
              "Cleanliness                            int64\n",
              "Online boarding                        int64\n",
              "Departure Delay in Minutes             int64\n",
              "Arrival Delay in Minutes             float64\n",
              "dtype: object"
            ]
          },
          "execution_count": 5,
          "metadata": {},
          "output_type": "execute_result"
        }
      ],
      "source": [
        "# I will check the categorical columns for encoding.\n",
        "data_df.dtypes"
      ]
    },
    {
      "cell_type": "code",
      "execution_count": null,
      "id": "d95849ea",
      "metadata": {
        "id": "d95849ea",
        "outputId": "687e7330-eeb6-4434-c412-567a76dc8dbe"
      },
      "outputs": [
        {
          "data": {
            "text/plain": [
              "array(['satisfied', 'dissatisfied'], dtype=object)"
            ]
          },
          "metadata": {},
          "output_type": "display_data"
        },
        {
          "data": {
            "text/plain": [
              "array(['Female', 'Male'], dtype=object)"
            ]
          },
          "metadata": {},
          "output_type": "display_data"
        },
        {
          "data": {
            "text/plain": [
              "array(['Loyal Customer', 'disloyal Customer'], dtype=object)"
            ]
          },
          "metadata": {},
          "output_type": "display_data"
        },
        {
          "data": {
            "text/plain": [
              "array(['Personal Travel', 'Business travel'], dtype=object)"
            ]
          },
          "metadata": {},
          "output_type": "display_data"
        },
        {
          "data": {
            "text/plain": [
              "array(['Eco', 'Business', 'Eco Plus'], dtype=object)"
            ]
          },
          "metadata": {},
          "output_type": "display_data"
        }
      ],
      "source": [
        "# I will list how many categories for each categorical column.\n",
        "\n",
        "display(data_df['satisfaction'].unique())\n",
        "display(data_df['Gender'].unique())\n",
        "display(data_df['Customer Type'].unique())\n",
        "display(data_df['Type of Travel'].unique())\n",
        "display(data_df['Class'].unique())"
      ]
    },
    {
      "cell_type": "code",
      "execution_count": null,
      "id": "50073a89",
      "metadata": {
        "scrolled": false,
        "id": "50073a89",
        "outputId": "711db54d-fe8d-445e-aa51-4f3218692f93"
      },
      "outputs": [
        {
          "data": {
            "text/html": [
              "<div>\n",
              "<style scoped>\n",
              "    .dataframe tbody tr th:only-of-type {\n",
              "        vertical-align: middle;\n",
              "    }\n",
              "\n",
              "    .dataframe tbody tr th {\n",
              "        vertical-align: top;\n",
              "    }\n",
              "\n",
              "    .dataframe thead th {\n",
              "        text-align: right;\n",
              "    }\n",
              "</style>\n",
              "<table border=\"1\" class=\"dataframe\">\n",
              "  <thead>\n",
              "    <tr style=\"text-align: right;\">\n",
              "      <th></th>\n",
              "      <th>satisfaction</th>\n",
              "      <th>Age</th>\n",
              "      <th>Flight Distance</th>\n",
              "      <th>Seat comfort</th>\n",
              "      <th>Departure/Arrival time convenient</th>\n",
              "      <th>Food and drink</th>\n",
              "      <th>Gate location</th>\n",
              "      <th>Inflight wifi service</th>\n",
              "      <th>Inflight entertainment</th>\n",
              "      <th>Online support</th>\n",
              "      <th>...</th>\n",
              "      <th>Arrival Delay in Minutes</th>\n",
              "      <th>Gender_Female</th>\n",
              "      <th>Gender_Male</th>\n",
              "      <th>Customer Type_Loyal Customer</th>\n",
              "      <th>Customer Type_disloyal Customer</th>\n",
              "      <th>Type of Travel_Business travel</th>\n",
              "      <th>Type of Travel_Personal Travel</th>\n",
              "      <th>Class_Business</th>\n",
              "      <th>Class_Eco</th>\n",
              "      <th>Class_Eco Plus</th>\n",
              "    </tr>\n",
              "  </thead>\n",
              "  <tbody>\n",
              "    <tr>\n",
              "      <th>0</th>\n",
              "      <td>1</td>\n",
              "      <td>65</td>\n",
              "      <td>265</td>\n",
              "      <td>0</td>\n",
              "      <td>0</td>\n",
              "      <td>0</td>\n",
              "      <td>2</td>\n",
              "      <td>2</td>\n",
              "      <td>4</td>\n",
              "      <td>2</td>\n",
              "      <td>...</td>\n",
              "      <td>0.0</td>\n",
              "      <td>1</td>\n",
              "      <td>0</td>\n",
              "      <td>1</td>\n",
              "      <td>0</td>\n",
              "      <td>0</td>\n",
              "      <td>1</td>\n",
              "      <td>0</td>\n",
              "      <td>1</td>\n",
              "      <td>0</td>\n",
              "    </tr>\n",
              "    <tr>\n",
              "      <th>1</th>\n",
              "      <td>1</td>\n",
              "      <td>47</td>\n",
              "      <td>2464</td>\n",
              "      <td>0</td>\n",
              "      <td>0</td>\n",
              "      <td>0</td>\n",
              "      <td>3</td>\n",
              "      <td>0</td>\n",
              "      <td>2</td>\n",
              "      <td>2</td>\n",
              "      <td>...</td>\n",
              "      <td>305.0</td>\n",
              "      <td>0</td>\n",
              "      <td>1</td>\n",
              "      <td>1</td>\n",
              "      <td>0</td>\n",
              "      <td>0</td>\n",
              "      <td>1</td>\n",
              "      <td>1</td>\n",
              "      <td>0</td>\n",
              "      <td>0</td>\n",
              "    </tr>\n",
              "    <tr>\n",
              "      <th>2</th>\n",
              "      <td>1</td>\n",
              "      <td>15</td>\n",
              "      <td>2138</td>\n",
              "      <td>0</td>\n",
              "      <td>0</td>\n",
              "      <td>0</td>\n",
              "      <td>3</td>\n",
              "      <td>2</td>\n",
              "      <td>0</td>\n",
              "      <td>2</td>\n",
              "      <td>...</td>\n",
              "      <td>0.0</td>\n",
              "      <td>1</td>\n",
              "      <td>0</td>\n",
              "      <td>1</td>\n",
              "      <td>0</td>\n",
              "      <td>0</td>\n",
              "      <td>1</td>\n",
              "      <td>0</td>\n",
              "      <td>1</td>\n",
              "      <td>0</td>\n",
              "    </tr>\n",
              "    <tr>\n",
              "      <th>3</th>\n",
              "      <td>1</td>\n",
              "      <td>60</td>\n",
              "      <td>623</td>\n",
              "      <td>0</td>\n",
              "      <td>0</td>\n",
              "      <td>0</td>\n",
              "      <td>3</td>\n",
              "      <td>3</td>\n",
              "      <td>4</td>\n",
              "      <td>3</td>\n",
              "      <td>...</td>\n",
              "      <td>0.0</td>\n",
              "      <td>1</td>\n",
              "      <td>0</td>\n",
              "      <td>1</td>\n",
              "      <td>0</td>\n",
              "      <td>0</td>\n",
              "      <td>1</td>\n",
              "      <td>0</td>\n",
              "      <td>1</td>\n",
              "      <td>0</td>\n",
              "    </tr>\n",
              "    <tr>\n",
              "      <th>4</th>\n",
              "      <td>1</td>\n",
              "      <td>70</td>\n",
              "      <td>354</td>\n",
              "      <td>0</td>\n",
              "      <td>0</td>\n",
              "      <td>0</td>\n",
              "      <td>3</td>\n",
              "      <td>4</td>\n",
              "      <td>3</td>\n",
              "      <td>4</td>\n",
              "      <td>...</td>\n",
              "      <td>0.0</td>\n",
              "      <td>1</td>\n",
              "      <td>0</td>\n",
              "      <td>1</td>\n",
              "      <td>0</td>\n",
              "      <td>0</td>\n",
              "      <td>1</td>\n",
              "      <td>0</td>\n",
              "      <td>1</td>\n",
              "      <td>0</td>\n",
              "    </tr>\n",
              "  </tbody>\n",
              "</table>\n",
              "<p>5 rows × 28 columns</p>\n",
              "</div>"
            ],
            "text/plain": [
              "   satisfaction  Age  Flight Distance  Seat comfort  \\\n",
              "0             1   65              265             0   \n",
              "1             1   47             2464             0   \n",
              "2             1   15             2138             0   \n",
              "3             1   60              623             0   \n",
              "4             1   70              354             0   \n",
              "\n",
              "   Departure/Arrival time convenient  Food and drink  Gate location  \\\n",
              "0                                  0               0              2   \n",
              "1                                  0               0              3   \n",
              "2                                  0               0              3   \n",
              "3                                  0               0              3   \n",
              "4                                  0               0              3   \n",
              "\n",
              "   Inflight wifi service  Inflight entertainment  Online support  ...  \\\n",
              "0                      2                       4               2  ...   \n",
              "1                      0                       2               2  ...   \n",
              "2                      2                       0               2  ...   \n",
              "3                      3                       4               3  ...   \n",
              "4                      4                       3               4  ...   \n",
              "\n",
              "   Arrival Delay in Minutes  Gender_Female  Gender_Male  \\\n",
              "0                       0.0              1            0   \n",
              "1                     305.0              0            1   \n",
              "2                       0.0              1            0   \n",
              "3                       0.0              1            0   \n",
              "4                       0.0              1            0   \n",
              "\n",
              "   Customer Type_Loyal Customer  Customer Type_disloyal Customer  \\\n",
              "0                             1                                0   \n",
              "1                             1                                0   \n",
              "2                             1                                0   \n",
              "3                             1                                0   \n",
              "4                             1                                0   \n",
              "\n",
              "   Type of Travel_Business travel  Type of Travel_Personal Travel  \\\n",
              "0                               0                               1   \n",
              "1                               0                               1   \n",
              "2                               0                               1   \n",
              "3                               0                               1   \n",
              "4                               0                               1   \n",
              "\n",
              "   Class_Business  Class_Eco  Class_Eco Plus  \n",
              "0               0          1               0  \n",
              "1               1          0               0  \n",
              "2               0          1               0  \n",
              "3               0          1               0  \n",
              "4               0          1               0  \n",
              "\n",
              "[5 rows x 28 columns]"
            ]
          },
          "execution_count": 7,
          "metadata": {},
          "output_type": "execute_result"
        }
      ],
      "source": [
        "# I will change \"label\" variable categories manually.\n",
        "data_df = data_df.replace(to_replace = ['dissatisfied', 'satisfied'],value = [0, 1])\n",
        "\n",
        "# I will do One-Hot Encoding. Because the categories aren't ordinal and too few type.\n",
        "# Firstly I will create a function for create dummies.\n",
        "def dummy_creator(df, column_name):\n",
        "    dummies = pd.get_dummies(df[column_name], prefix = column_name, dtype = 'int64')\n",
        "    df = pd.concat([df, dummies], axis = 1)\n",
        "    return df\n",
        "\n",
        "# Create dummies for categorical columns.\n",
        "for column in ['Gender', 'Customer Type', 'Type of Travel', 'Class']:\n",
        "    data_df = dummy_creator(data_df, column)\n",
        "\n",
        "# Delete the One-Hot Encoded Columns.\n",
        "data_df.drop(['Gender', 'Customer Type', 'Type of Travel', 'Class'], inplace = True, axis = 1)\n",
        "\n",
        "# Display the updated DataFrame.\n",
        "data_df.head()"
      ]
    },
    {
      "cell_type": "code",
      "execution_count": null,
      "id": "4e2c67f8",
      "metadata": {
        "scrolled": false,
        "id": "4e2c67f8",
        "outputId": "1279bbf7-bfa7-4206-9d3c-dacd283b8abf"
      },
      "outputs": [
        {
          "name": "stdout",
          "output_type": "stream",
          "text": [
            "Shape of features: (1735, 27)\n"
          ]
        },
        {
          "data": {
            "text/html": [
              "<div>\n",
              "<style scoped>\n",
              "    .dataframe tbody tr th:only-of-type {\n",
              "        vertical-align: middle;\n",
              "    }\n",
              "\n",
              "    .dataframe tbody tr th {\n",
              "        vertical-align: top;\n",
              "    }\n",
              "\n",
              "    .dataframe thead th {\n",
              "        text-align: right;\n",
              "    }\n",
              "</style>\n",
              "<table border=\"1\" class=\"dataframe\">\n",
              "  <thead>\n",
              "    <tr style=\"text-align: right;\">\n",
              "      <th></th>\n",
              "      <th>Age</th>\n",
              "      <th>Flight Distance</th>\n",
              "      <th>Seat comfort</th>\n",
              "      <th>Departure/Arrival time convenient</th>\n",
              "      <th>Food and drink</th>\n",
              "      <th>Gate location</th>\n",
              "      <th>Inflight wifi service</th>\n",
              "      <th>Inflight entertainment</th>\n",
              "      <th>Online support</th>\n",
              "      <th>Ease of Online booking</th>\n",
              "      <th>...</th>\n",
              "      <th>Arrival Delay in Minutes</th>\n",
              "      <th>Gender_Female</th>\n",
              "      <th>Gender_Male</th>\n",
              "      <th>Customer Type_Loyal Customer</th>\n",
              "      <th>Customer Type_disloyal Customer</th>\n",
              "      <th>Type of Travel_Business travel</th>\n",
              "      <th>Type of Travel_Personal Travel</th>\n",
              "      <th>Class_Business</th>\n",
              "      <th>Class_Eco</th>\n",
              "      <th>Class_Eco Plus</th>\n",
              "    </tr>\n",
              "  </thead>\n",
              "  <tbody>\n",
              "    <tr>\n",
              "      <th>0</th>\n",
              "      <td>65</td>\n",
              "      <td>265</td>\n",
              "      <td>0</td>\n",
              "      <td>0</td>\n",
              "      <td>0</td>\n",
              "      <td>2</td>\n",
              "      <td>2</td>\n",
              "      <td>4</td>\n",
              "      <td>2</td>\n",
              "      <td>3</td>\n",
              "      <td>...</td>\n",
              "      <td>0.0</td>\n",
              "      <td>1</td>\n",
              "      <td>0</td>\n",
              "      <td>1</td>\n",
              "      <td>0</td>\n",
              "      <td>0</td>\n",
              "      <td>1</td>\n",
              "      <td>0</td>\n",
              "      <td>1</td>\n",
              "      <td>0</td>\n",
              "    </tr>\n",
              "    <tr>\n",
              "      <th>1</th>\n",
              "      <td>47</td>\n",
              "      <td>2464</td>\n",
              "      <td>0</td>\n",
              "      <td>0</td>\n",
              "      <td>0</td>\n",
              "      <td>3</td>\n",
              "      <td>0</td>\n",
              "      <td>2</td>\n",
              "      <td>2</td>\n",
              "      <td>3</td>\n",
              "      <td>...</td>\n",
              "      <td>305.0</td>\n",
              "      <td>0</td>\n",
              "      <td>1</td>\n",
              "      <td>1</td>\n",
              "      <td>0</td>\n",
              "      <td>0</td>\n",
              "      <td>1</td>\n",
              "      <td>1</td>\n",
              "      <td>0</td>\n",
              "      <td>0</td>\n",
              "    </tr>\n",
              "    <tr>\n",
              "      <th>2</th>\n",
              "      <td>15</td>\n",
              "      <td>2138</td>\n",
              "      <td>0</td>\n",
              "      <td>0</td>\n",
              "      <td>0</td>\n",
              "      <td>3</td>\n",
              "      <td>2</td>\n",
              "      <td>0</td>\n",
              "      <td>2</td>\n",
              "      <td>2</td>\n",
              "      <td>...</td>\n",
              "      <td>0.0</td>\n",
              "      <td>1</td>\n",
              "      <td>0</td>\n",
              "      <td>1</td>\n",
              "      <td>0</td>\n",
              "      <td>0</td>\n",
              "      <td>1</td>\n",
              "      <td>0</td>\n",
              "      <td>1</td>\n",
              "      <td>0</td>\n",
              "    </tr>\n",
              "    <tr>\n",
              "      <th>3</th>\n",
              "      <td>60</td>\n",
              "      <td>623</td>\n",
              "      <td>0</td>\n",
              "      <td>0</td>\n",
              "      <td>0</td>\n",
              "      <td>3</td>\n",
              "      <td>3</td>\n",
              "      <td>4</td>\n",
              "      <td>3</td>\n",
              "      <td>1</td>\n",
              "      <td>...</td>\n",
              "      <td>0.0</td>\n",
              "      <td>1</td>\n",
              "      <td>0</td>\n",
              "      <td>1</td>\n",
              "      <td>0</td>\n",
              "      <td>0</td>\n",
              "      <td>1</td>\n",
              "      <td>0</td>\n",
              "      <td>1</td>\n",
              "      <td>0</td>\n",
              "    </tr>\n",
              "    <tr>\n",
              "      <th>4</th>\n",
              "      <td>70</td>\n",
              "      <td>354</td>\n",
              "      <td>0</td>\n",
              "      <td>0</td>\n",
              "      <td>0</td>\n",
              "      <td>3</td>\n",
              "      <td>4</td>\n",
              "      <td>3</td>\n",
              "      <td>4</td>\n",
              "      <td>2</td>\n",
              "      <td>...</td>\n",
              "      <td>0.0</td>\n",
              "      <td>1</td>\n",
              "      <td>0</td>\n",
              "      <td>1</td>\n",
              "      <td>0</td>\n",
              "      <td>0</td>\n",
              "      <td>1</td>\n",
              "      <td>0</td>\n",
              "      <td>1</td>\n",
              "      <td>0</td>\n",
              "    </tr>\n",
              "  </tbody>\n",
              "</table>\n",
              "<p>5 rows × 27 columns</p>\n",
              "</div>"
            ],
            "text/plain": [
              "   Age  Flight Distance  Seat comfort  Departure/Arrival time convenient  \\\n",
              "0   65              265             0                                  0   \n",
              "1   47             2464             0                                  0   \n",
              "2   15             2138             0                                  0   \n",
              "3   60              623             0                                  0   \n",
              "4   70              354             0                                  0   \n",
              "\n",
              "   Food and drink  Gate location  Inflight wifi service  \\\n",
              "0               0              2                      2   \n",
              "1               0              3                      0   \n",
              "2               0              3                      2   \n",
              "3               0              3                      3   \n",
              "4               0              3                      4   \n",
              "\n",
              "   Inflight entertainment  Online support  Ease of Online booking  ...  \\\n",
              "0                       4               2                       3  ...   \n",
              "1                       2               2                       3  ...   \n",
              "2                       0               2                       2  ...   \n",
              "3                       4               3                       1  ...   \n",
              "4                       3               4                       2  ...   \n",
              "\n",
              "   Arrival Delay in Minutes  Gender_Female  Gender_Male  \\\n",
              "0                       0.0              1            0   \n",
              "1                     305.0              0            1   \n",
              "2                       0.0              1            0   \n",
              "3                       0.0              1            0   \n",
              "4                       0.0              1            0   \n",
              "\n",
              "   Customer Type_Loyal Customer  Customer Type_disloyal Customer  \\\n",
              "0                             1                                0   \n",
              "1                             1                                0   \n",
              "2                             1                                0   \n",
              "3                             1                                0   \n",
              "4                             1                                0   \n",
              "\n",
              "   Type of Travel_Business travel  Type of Travel_Personal Travel  \\\n",
              "0                               0                               1   \n",
              "1                               0                               1   \n",
              "2                               0                               1   \n",
              "3                               0                               1   \n",
              "4                               0                               1   \n",
              "\n",
              "   Class_Business  Class_Eco  Class_Eco Plus  \n",
              "0               0          1               0  \n",
              "1               1          0               0  \n",
              "2               0          1               0  \n",
              "3               0          1               0  \n",
              "4               0          1               0  \n",
              "\n",
              "[5 rows x 27 columns]"
            ]
          },
          "metadata": {},
          "output_type": "display_data"
        },
        {
          "name": "stdout",
          "output_type": "stream",
          "text": [
            "\n",
            "Shape of label variable: (1735,)\n"
          ]
        },
        {
          "data": {
            "text/plain": [
              "0    1\n",
              "1    1\n",
              "2    1\n",
              "3    1\n",
              "4    1\n",
              "Name: satisfaction, dtype: int64"
            ]
          },
          "metadata": {},
          "output_type": "display_data"
        }
      ],
      "source": [
        "# Determine the features(x) and label(y) variable.\n",
        "x = data_df.loc[:, data_df.columns != 'satisfaction']\n",
        "y = data_df['satisfaction']\n",
        "\n",
        "# Print shape info and first 5 tuples of the features.\n",
        "print(\"Shape of features:\", x.shape)\n",
        "display(x.head())\n",
        "\n",
        "# Print shape info and first 5 tuples of the label variable.\n",
        "print(\"\\nShape of label variable:\", y.shape)\n",
        "display(y.head())"
      ]
    },
    {
      "cell_type": "code",
      "execution_count": null,
      "id": "262d823c",
      "metadata": {
        "id": "262d823c"
      },
      "outputs": [],
      "source": [
        "# I didn't do normalization for my data.\n",
        "# Because scaling affects my models badly. I think scales are important for this data.\n",
        "# I mean by this sentence, it increase the accuracy but it is making my models overfitting.\n",
        "# I didn't understand at the first time, so I do research on the internet from different sources.\n",
        "# The proffesionals say mostly, scaling is need for distance measured classifiers but sometimes scaling getting worse to model.\n",
        "# I tried and it affects my model badly, so I decided to don't normalize my data."
      ]
    },
    {
      "cell_type": "code",
      "execution_count": null,
      "id": "ad3e234b",
      "metadata": {
        "scrolled": true,
        "id": "ad3e234b",
        "outputId": "5074b7cf-bfc1-4eec-a5c8-dc49e1866163"
      },
      "outputs": [
        {
          "data": {
            "text/plain": [
              "(1214, 27)"
            ]
          },
          "metadata": {},
          "output_type": "display_data"
        },
        {
          "data": {
            "text/plain": [
              "(347, 27)"
            ]
          },
          "metadata": {},
          "output_type": "display_data"
        },
        {
          "data": {
            "text/plain": [
              "(174, 27)"
            ]
          },
          "metadata": {},
          "output_type": "display_data"
        },
        {
          "data": {
            "text/plain": [
              "(1214,)"
            ]
          },
          "metadata": {},
          "output_type": "display_data"
        },
        {
          "data": {
            "text/plain": [
              "(347,)"
            ]
          },
          "metadata": {},
          "output_type": "display_data"
        },
        {
          "data": {
            "text/plain": [
              "(174,)"
            ]
          },
          "metadata": {},
          "output_type": "display_data"
        }
      ],
      "source": [
        "# Shuffle the data, then split into train(%70), test(%20) and validation(%10).\n",
        "x_train, x_test, y_train, y_test  = train_test_split(x, y, test_size= 0.2, random_state=21, shuffle = True)\n",
        "\n",
        "x_train, x_valid, y_train, y_valid = train_test_split(x_train, y_train, test_size=1/8, random_state=21)\n",
        "\n",
        "# Show the shapes of the sets.\n",
        "display(x_train.shape, x_test.shape, x_valid.shape)\n",
        "display(y_train.shape, y_test.shape, y_valid.shape)"
      ]
    },
    {
      "cell_type": "code",
      "execution_count": null,
      "id": "8d0cf868",
      "metadata": {
        "id": "8d0cf868",
        "outputId": "d988dd13-6c48-43bc-b67d-7c35853a052a"
      },
      "outputs": [
        {
          "name": "stdout",
          "output_type": "stream",
          "text": [
            "KNN Model Accuracy: 0.6743515850144092\n"
          ]
        }
      ],
      "source": [
        "# Firstly build a KNN model with train set and test with test data.\n",
        "# After this step we will decide parameters over a validation set.\n",
        "\n",
        "# Create a KNN Classifier instance with 5 neighbors.\n",
        "knn = KNN(n_neighbors=5)\n",
        "# Fit the model with train set.\n",
        "knn.fit(x_train, y_train)\n",
        "# Make predictions over the test set.\n",
        "pred = knn.predict(x_test)\n",
        "# Calculate the accuracy of model\n",
        "accuracy = accuracy_score(y_test, pred)\n",
        "# Print the accuracy score.\n",
        "print(\"KNN Model Accuracy:\", accuracy)"
      ]
    },
    {
      "cell_type": "code",
      "execution_count": null,
      "id": "47c9d179",
      "metadata": {
        "id": "47c9d179",
        "outputId": "db43687e-2014-4724-d43c-b7b20c87ceef"
      },
      "outputs": [
        {
          "name": "stdout",
          "output_type": "stream",
          "text": [
            "According to Minkowski p = 1 distance, optimal k value and error:\n",
            "Optimal k : 3\n",
            "Error value: 0.17159763313609466\n",
            "\n",
            "According to Minkowski p = 2 distance, optimal k value and error:\n",
            "Optimal k: 5\n",
            "Error value: 0.32544378698224863\n"
          ]
        }
      ],
      "source": [
        "# Parameter selection with using validation set for KNN Model.\n",
        "\n",
        "# Dicts for hold different distance metrics errors.\n",
        "p1_errors = {}\n",
        "p2_errors = {}\n",
        "\n",
        "for k in range(1,21,1):   # Loop in k values.\n",
        "    for pVal in [1,2]:    # Loop in p values.\n",
        "        # Create a KNN Classifier instance with k neighbor, p distance.\n",
        "        clf = KNN(n_neighbors = k, metric = 'minkowski', p = pVal)\n",
        "        # Fit the model with train data.\n",
        "        clf.fit(x_train, y_train)\n",
        "        # Make predictions over the validation set.\n",
        "        prediction = clf.predict(x_valid)\n",
        "        # Calculate the f1_score.\n",
        "        f1 = f1_score(prediction, y_valid)\n",
        "        # Calculate error.\n",
        "        error = 1 - f1\n",
        "        # Add k - p pairs according to distance metric.\n",
        "        if (pVal == 1):\n",
        "            p1_errors[k] = error\n",
        "        else:\n",
        "            p2_errors[k] = error\n",
        "\n",
        "print(\"According to Minkowski p = 1 distance, optimal k value and error:\")\n",
        "print(\"Optimal k :\", min(p1_errors, key = p1_errors.get))\n",
        "print(\"Error value:\", p1_errors[min(p1_errors, key = p1_errors.get)])\n",
        "print(\"\\nAccording to Minkowski p = 2 distance, optimal k value and error:\")\n",
        "print(\"Optimal k:\", min(p2_errors, key = p2_errors.get))\n",
        "print(\"Error value:\", p2_errors[min(p2_errors, key = p2_errors.get)])"
      ]
    },
    {
      "cell_type": "code",
      "execution_count": null,
      "id": "ff95bb21",
      "metadata": {
        "id": "ff95bb21",
        "outputId": "6236dc75-a90c-4604-d887-f69e149cbf14"
      },
      "outputs": [
        {
          "name": "stdout",
          "output_type": "stream",
          "text": [
            "Logistic Regression Model Accuracy: 0.9740634005763689\n"
          ]
        }
      ],
      "source": [
        "# Secondly we build a Logistic Regression Classifier with train data and test with test data.\n",
        "# After this step we will decide parameters over a validation set.\n",
        "\n",
        "# Creating Logistic Regression model.\n",
        "lr = LogisticRegression()\n",
        "# Fit the model with train data.\n",
        "lr.fit(x_train, y_train)\n",
        "# Make predictions over test data.\n",
        "prediction = lr.predict(x_test)\n",
        "# Calculate accuracy on the predictions and test data.\n",
        "accuracy = accuracy_score(y_test, prediction)\n",
        "# Print the accuracy.\n",
        "print(\"Logistic Regression Model Accuracy:\", accuracy)"
      ]
    },
    {
      "cell_type": "code",
      "execution_count": null,
      "id": "cb91a6da",
      "metadata": {
        "id": "cb91a6da",
        "outputId": "0d5dd335-1bb2-4d44-a614-fa8fef40d5a1"
      },
      "outputs": [
        {
          "name": "stdout",
          "output_type": "stream",
          "text": [
            "newton-cg error: 0.016574585635359185\n",
            "lbfgs error: 0.022222222222222143\n",
            "sag error: 0.4078212290502793\n"
          ]
        }
      ],
      "source": [
        "# Parameter Selection with using validation set for Logistic Regression Classifier Model.\n",
        "# I tried to change penalty and random state parameter of Logistic regression but they don't affect result too much.\n",
        "# I can check max_iter and c parameter but solver parameter gives a desired performance for me so I decide to can't check these.\n",
        "# I will check solver parameter which using in optimization problems for Logistic Regression Classifier.\n",
        "# I will not use liblinear and saga solvers, because they support l1 penalty but my model doesn't support it.\n",
        "\n",
        "solver_parameters = ['newton-cg', 'lbfgs','sag']   # Solver parameters list.\n",
        "\n",
        "for s in solver_parameters:   # Loop in solver parameters.\n",
        "    # Create the Logistic Regression model with solver s.\n",
        "    lr_clf = LogisticRegression(solver = s)  \n",
        "    # Fit the model with train data.\n",
        "    lr_clf.fit(x_train, y_train)   \n",
        "    # Make prediction with validation set.\n",
        "    prediction = lr_clf.predict(x_valid)  \n",
        "    # Calculate error over prediction and validation set.\n",
        "    error = 1 - f1_score(prediction, y_valid)\n",
        "    # Print the errors for each solver.\n",
        "    print(s, \"error:\", error)"
      ]
    },
    {
      "cell_type": "code",
      "execution_count": null,
      "id": "317753e4",
      "metadata": {
        "id": "317753e4",
        "outputId": "5d5caef0-f2ac-4369-984b-e1a6659a0ca1"
      },
      "outputs": [
        {
          "data": {
            "text/html": [
              "<div>\n",
              "<style scoped>\n",
              "    .dataframe tbody tr th:only-of-type {\n",
              "        vertical-align: middle;\n",
              "    }\n",
              "\n",
              "    .dataframe tbody tr th {\n",
              "        vertical-align: top;\n",
              "    }\n",
              "\n",
              "    .dataframe thead th {\n",
              "        text-align: right;\n",
              "    }\n",
              "</style>\n",
              "<table border=\"1\" class=\"dataframe\">\n",
              "  <thead>\n",
              "    <tr style=\"text-align: right;\">\n",
              "      <th></th>\n",
              "      <th>Model</th>\n",
              "      <th>Accuracy</th>\n",
              "    </tr>\n",
              "  </thead>\n",
              "  <tbody>\n",
              "    <tr>\n",
              "      <th>0</th>\n",
              "      <td>kNN</td>\n",
              "      <td>0.841499</td>\n",
              "    </tr>\n",
              "    <tr>\n",
              "      <th>1</th>\n",
              "      <td>Logistic Regression</td>\n",
              "      <td>0.997118</td>\n",
              "    </tr>\n",
              "  </tbody>\n",
              "</table>\n",
              "</div>"
            ],
            "text/plain": [
              "                 Model  Accuracy\n",
              "0                  kNN  0.841499\n",
              "1  Logistic Regression  0.997118"
            ]
          },
          "execution_count": 15,
          "metadata": {},
          "output_type": "execute_result"
        }
      ],
      "source": [
        "# Let's see models accuracies on the test data with updated parameters.\n",
        "\n",
        "# According to before, kNN Model gives too lower error for k = 3 and p = 1\n",
        "# Because of this reason I choose these optimal values as parameter.\n",
        "knn_clf = KNN(n_neighbors = 3, metric = 'minkowski', p = 1)     # Create kNN instance with 3 neighbors, p = 1 distance.\n",
        "knn_clf.fit(x_train, y_train)    # Fit the model with train data.\n",
        "knn_pred = knn_clf.predict(x_test)   # Make predictions with test data.\n",
        "knn_accuracy = accuracy_score(y_test, knn_pred)   # Calculate accuracy on the test data.\n",
        "\n",
        "# According to before, Logistic Regression Model gives too lower error with newton-cg solver.\n",
        "# So I will use it for optimize the model.\n",
        "lr_clf = LogisticRegression(solver = 'newton-cg')   # Create Logistic Regressor instance with newton-cg solver.\n",
        "lr_clf.fit(x_train, y_train)   # Fit the model with train data.\n",
        "lr_pred = lr_clf.predict(x_test)   # Make predictions with test data.\n",
        "lr_accuracy = accuracy_score(y_test, lr_pred)   # Calculate accuracy on test data.\n",
        "\n",
        "# Create a table with model - acccuracy pair.\n",
        "models_df = pd.DataFrame({'Model': ['kNN', 'Logistic Regression'],\n",
        "                   'Accuracy': [knn_accuracy, lr_accuracy]})\n",
        "\n",
        "# Display the table.\n",
        "models_df"
      ]
    },
    {
      "cell_type": "code",
      "execution_count": null,
      "id": "b5b9c857",
      "metadata": {
        "id": "b5b9c857"
      },
      "outputs": [],
      "source": [
        "# I think most of my friends find the kNN's accuracy 0.98 - 1.00\n",
        "# My kNN accuracy is lower because I didn't do re-scaling.\n",
        "# Because when I do the scaling, my kNN Model being overfitted so I prefer the don't re-scaling.\n",
        "# The choosed parameters increase the models accuracy as expected.\n",
        "# Accuracy formula is (TP + TN)/n so:\n",
        "# The kNN Model true prediction rate is lower than my Logistic Regression Model.\n",
        "# Probably the Logistic Regression Model make predictions too much true.\n",
        "# According to obtained result my Logistic Regression Model is more accurate than kNN Model."
      ]
    },
    {
      "cell_type": "code",
      "execution_count": null,
      "id": "90dbc8c7",
      "metadata": {
        "id": "90dbc8c7",
        "outputId": "d9300ae0-9f3f-4e82-a724-4a692c137da4"
      },
      "outputs": [
        {
          "data": {
            "image/png": "[encoded data removed]",
            "text/plain": [
              "<Figure size 432x288 with 2 Axes>"
            ]
          },
          "metadata": {
            "needs_background": "light"
          },
          "output_type": "display_data"
        }
      ],
      "source": [
        "# Plot confusion matrix of kNN model.\n",
        "\n",
        "# Create kNN Model with 3 neighbors and p = 1 distance.\n",
        "knn_model = KNN(n_neighbors = 3, metric = 'minkowski', p = 1)  \n",
        "# Fit the model with train data.\n",
        "knn_model.fit(x_train, y_train)   \n",
        "# Create and plot confusion matrix with using model and test data.\n",
        "plot_confusion_matrix(knn_model, x_test, y_test)   \n",
        "# Give a title to Matrix.\n",
        "plt.title('kNN Classifier Confusion Matrix') \n",
        "# Show the confusion matrix of kNN.\n",
        "plt.show()   "
      ]
    },
    {
      "cell_type": "code",
      "execution_count": null,
      "id": "9252735a",
      "metadata": {
        "id": "9252735a",
        "outputId": "c3ccb948-0a61-4065-85c5-dd36c65c03ab"
      },
      "outputs": [
        {
          "data": {
            "image/png": "[encoded data removed]",
            "text/plain": [
              "<Figure size 432x288 with 2 Axes>"
            ]
          },
          "metadata": {
            "needs_background": "light"
          },
          "output_type": "display_data"
        }
      ],
      "source": [
        "# Plot confusion matrix of Logistic Regression Model.\n",
        "\n",
        "# Create Logistic Regression Model with newton-cg solver.\n",
        "lr_model = LogisticRegression(solver = 'newton-cg')\n",
        "# Fit the model with train data.\n",
        "lr_model.fit(x_train, y_train)   \n",
        "# Create and plot confusion matrix with using model and test data.\n",
        "plot_confusion_matrix(lr_model, x_test, y_test)\n",
        "# Give a title to Matrix.\n",
        "plt.title('Logistic Regression Classifier Confusion Matrix')\n",
        "# Show the confusion matrix of Logistic Regressor.\n",
        "plt.show()  "
      ]
    },
    {
      "cell_type": "code",
      "execution_count": null,
      "id": "aec2724b",
      "metadata": {
        "id": "aec2724b"
      },
      "outputs": [],
      "source": [
        "# As expected from my accuracy comments, the Logistic Regression Classifier predicted true too much.\n",
        "# When we calculate error rate from (FP + FN)/n formula, the Logistic Regressors error rate is 1/347.\n",
        "# When we calculate error rate from (FP + FN)/n formula, the kNN Model error rate is 55/347.\n",
        "# According to error rates, Logistic Regression Classifier works with lower error rate.\n",
        "# My kNN Model is successfull too, but my Logistic Regression Model too much successfull than kNN.\n",
        "# As a result, Logistic Regression Model making more successfull predictions than kNN Model."
      ]
    },
    {
      "cell_type": "code",
      "execution_count": null,
      "id": "c228e6ef",
      "metadata": {
        "id": "c228e6ef",
        "outputId": "94b8b950-1548-44c7-8da3-aaecc84248f0"
      },
      "outputs": [
        {
          "data": {
            "image/png": "[encoded data removed]",
            "text/plain": [
              "<Figure size 432x288 with 1 Axes>"
            ]
          },
          "metadata": {
            "needs_background": "light"
          },
          "output_type": "display_data"
        }
      ],
      "source": [
        "# Make predictions with test data for kNN Model which created at confusion matrix step.\n",
        "predictions = knn_model.predict(x_test)  \n",
        "# Arrange precision - recall pairs. \"_\" means threshold.\n",
        "precision, recall, _ = precision_recall_curve(y_test, predictions) \n",
        "# Display the curve.\n",
        "disp = PrecisionRecallDisplay(precision = precision, recall = recall)  \n",
        "# Plot the curve.\n",
        "disp.plot()   \n",
        "# Give a title to curve.\n",
        "plt.title(\"PR Curve of kNN Model\")  \n",
        "# Show the curve.\n",
        "plt.show()  "
      ]
    },
    {
      "cell_type": "code",
      "execution_count": null,
      "id": "7a7fbd14",
      "metadata": {
        "id": "7a7fbd14",
        "outputId": "a4e94a4c-e3e1-4599-ff5f-259ee6d0c5cd"
      },
      "outputs": [
        {
          "data": {
            "image/png": "[encoded data removed]",
            "text/plain": [
              "<Figure size 432x288 with 1 Axes>"
            ]
          },
          "metadata": {
            "needs_background": "light"
          },
          "output_type": "display_data"
        }
      ],
      "source": [
        "# Make predictions with test data for Logistic Regression model which created at confusion matrix step.\n",
        "predictions_lr = lr_model.predict(x_test) \n",
        "# Arrange precision - recall pairs. \"_\" mean threshold.\n",
        "precision_lr, recall_lr, _ = precision_recall_curve(y_test, predictions_lr) \n",
        "# Display the curve.\n",
        "disp_lr = PrecisionRecallDisplay(precision = precision_lr, recall = recall_lr)\n",
        "# Plot the curve.\n",
        "disp_lr.plot()\n",
        "# Give a title the curve.\n",
        "plt.title(\"PR Curve of Logistic Regression Model\")\n",
        "# Show the curve.\n",
        "plt.show()"
      ]
    },
    {
      "cell_type": "code",
      "execution_count": null,
      "id": "e683e106",
      "metadata": {
        "id": "e683e106"
      },
      "outputs": [],
      "source": [
        "# As expected from confusion and accuracy comments, the PR curve of Logistic Regression Model is better.\n",
        "# I can explain this successfulity with 2 reason.\n",
        "# First of all the Logistic Regression Models Curve is closer to ideal (1,1) than kNN Curve.\n",
        "# Secondly, the area under the kNN Model Curve is smaller than Logistic Regression Model.\n",
        "# Because of these reasons, the Logistic Regression Model's PR Curve is better than kNN's."
      ]
    },
    {
      "cell_type": "code",
      "execution_count": null,
      "id": "b4d09555",
      "metadata": {
        "id": "b4d09555",
        "outputId": "51bd44bc-b914-41ef-cec9-c354907f668c"
      },
      "outputs": [
        {
          "name": "stdout",
          "output_type": "stream",
          "text": [
            "kNN Classifier\n",
            "-----------------\n",
            "              precision    recall  f1-score   support\n",
            "\n",
            "           0       0.80      0.87      0.84       161\n",
            "           1       0.88      0.82      0.85       186\n",
            "\n",
            "    accuracy                           0.84       347\n",
            "   macro avg       0.84      0.84      0.84       347\n",
            "weighted avg       0.84      0.84      0.84       347\n",
            "\n",
            "\n",
            "Accuracy: 0.8414985590778098\n"
          ]
        }
      ],
      "source": [
        "print(\"kNN Classifier\")\n",
        "print(\"-----------------\")\n",
        "# Evaluate the prediction performance of the kNN Model\n",
        "print(classification_report(y_test, predictions))\n",
        "print(\"\\nAccuracy:\", knn_accuracy)"
      ]
    },
    {
      "cell_type": "code",
      "execution_count": null,
      "id": "b99bf0b2",
      "metadata": {
        "id": "b99bf0b2",
        "outputId": "e2e8865d-2e25-4b72-d043-c706a538dd8a"
      },
      "outputs": [
        {
          "name": "stdout",
          "output_type": "stream",
          "text": [
            "Logistic Regression Classifier\n",
            "--------------------------------\n",
            "              precision    recall  f1-score   support\n",
            "\n",
            "           0       0.99      1.00      1.00       161\n",
            "           1       1.00      0.99      1.00       186\n",
            "\n",
            "    accuracy                           1.00       347\n",
            "   macro avg       1.00      1.00      1.00       347\n",
            "weighted avg       1.00      1.00      1.00       347\n",
            "\n",
            "\n",
            "Accuracy: 0.9971181556195965\n"
          ]
        }
      ],
      "source": [
        "print(\"Logistic Regression Classifier\")\n",
        "print(\"--------------------------------\")\n",
        "# Evaluate the prediction performance of the Logistic Regression Model.\n",
        "print(classification_report(y_test, predictions_lr))\n",
        "print(\"\\nAccuracy:\", lr_accuracy)"
      ]
    },
    {
      "cell_type": "code",
      "execution_count": null,
      "id": "2d84780f",
      "metadata": {
        "id": "2d84780f"
      },
      "outputs": [],
      "source": [
        "# According to these stats, two of the models work good.\n",
        "# The Logistic Regression Model has more precision, recall and f1 score than kNN Model.\n",
        "# The kNN Model is less accurate than the Logistic Regression Model.\n",
        "# As obtained evaluated prediction performances, proved the Logistic Regression Model is better."
      ]
    }
  ],
  "metadata": {
    "colab": {
      "provenance": []
    },
    "kernelspec": {
      "display_name": "Python 3",
      "language": "python",
      "name": "python3"
    },
    "language_info": {
      "codemirror_mode": {
        "name": "ipython",
        "version": 3
      },
      "file_extension": ".py",
      "mimetype": "text/x-python",
      "name": "python",
      "nbconvert_exporter": "python",
      "pygments_lexer": "ipython3",
      "version": "3.8.8"
    }
  },
  "nbformat": 4,
  "nbformat_minor": 5
}